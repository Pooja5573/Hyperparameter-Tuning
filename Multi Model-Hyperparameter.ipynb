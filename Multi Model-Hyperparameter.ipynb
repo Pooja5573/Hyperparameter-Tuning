{
 "cells": [
  {
   "cell_type": "code",
   "execution_count": null,
   "id": "535c781b",
   "metadata": {},
   "outputs": [],
   "source": [
    "import numpy as np\n",
    "import pandas as pd \n"
   ]
  },
  {
   "cell_type": "code",
   "execution_count": null,
   "id": "8caba702",
   "metadata": {},
   "outputs": [],
   "source": [
    "df1 = pd.read_csv(\"C:\\\\Users\\\\Satish\\\\Downloads\\\\DataSets\\\\Social_Network_Ads_DT.csv\")"
   ]
  },
  {
   "cell_type": "code",
   "execution_count": null,
   "id": "2e0bd800",
   "metadata": {},
   "outputs": [],
   "source": [
    "df1"
   ]
  },
  {
   "cell_type": "code",
   "execution_count": null,
   "id": "e6a536e7",
   "metadata": {},
   "outputs": [],
   "source": [
    "pd.get_dummies(df1[\"Gender\"])"
   ]
  },
  {
   "cell_type": "code",
   "execution_count": null,
   "id": "7d671fe8",
   "metadata": {},
   "outputs": [],
   "source": [
    "gender = pd.get_dummies(df1[\"Gender\"],drop_first=True)"
   ]
  },
  {
   "cell_type": "code",
   "execution_count": null,
   "id": "60af6213",
   "metadata": {},
   "outputs": [],
   "source": [
    "gender"
   ]
  },
  {
   "cell_type": "code",
   "execution_count": null,
   "id": "382484ea",
   "metadata": {},
   "outputs": [],
   "source": [
    "df = pd.concat([gender,df1],axis=1)\n",
    "df.head()"
   ]
  },
  {
   "cell_type": "code",
   "execution_count": null,
   "id": "2c06d793",
   "metadata": {},
   "outputs": [],
   "source": [
    "df.drop([\"Gender\",\"User ID\"],axis=1,inplace=True)"
   ]
  },
  {
   "cell_type": "code",
   "execution_count": null,
   "id": "d66a2396",
   "metadata": {},
   "outputs": [],
   "source": [
    "df.head()"
   ]
  },
  {
   "cell_type": "code",
   "execution_count": null,
   "id": "45dfbdc7",
   "metadata": {},
   "outputs": [],
   "source": [
    "x = df.drop(\"Purchased\",axis=1)"
   ]
  },
  {
   "cell_type": "code",
   "execution_count": null,
   "id": "5bf8eb78",
   "metadata": {},
   "outputs": [],
   "source": [
    "x.head()"
   ]
  },
  {
   "cell_type": "code",
   "execution_count": null,
   "id": "cfbfac25",
   "metadata": {},
   "outputs": [],
   "source": [
    "y = df[[\"Purchased\"]]"
   ]
  },
  {
   "cell_type": "code",
   "execution_count": null,
   "id": "7d6ccd9f",
   "metadata": {},
   "outputs": [],
   "source": [
    "y.head()"
   ]
  },
  {
   "cell_type": "code",
   "execution_count": null,
   "id": "46f73ece",
   "metadata": {},
   "outputs": [],
   "source": [
    "from sklearn.model_selection import train_test_split"
   ]
  },
  {
   "cell_type": "code",
   "execution_count": null,
   "id": "57e20ce9",
   "metadata": {},
   "outputs": [],
   "source": [
    "x_train,x_test,y_train,y_test = train_test_split(x,y,test_size=0.20)"
   ]
  },
  {
   "cell_type": "code",
   "execution_count": null,
   "id": "fc38f979",
   "metadata": {},
   "outputs": [],
   "source": [
    "x_train.shape"
   ]
  },
  {
   "cell_type": "code",
   "execution_count": null,
   "id": "d0b2238b",
   "metadata": {},
   "outputs": [],
   "source": [
    "x_test.shape"
   ]
  },
  {
   "cell_type": "code",
   "execution_count": null,
   "id": "441dcbdf",
   "metadata": {},
   "outputs": [],
   "source": [
    "y_train.shape"
   ]
  },
  {
   "cell_type": "code",
   "execution_count": null,
   "id": "862217e2",
   "metadata": {},
   "outputs": [],
   "source": [
    "y_test.shape"
   ]
  },
  {
   "cell_type": "code",
   "execution_count": null,
   "id": "d6514deb",
   "metadata": {},
   "outputs": [],
   "source": [
    "from sklearn.tree import DecisionTreeClassifier"
   ]
  },
  {
   "cell_type": "code",
   "execution_count": null,
   "id": "2ec2029a",
   "metadata": {},
   "outputs": [],
   "source": [
    "DTC = DecisionTreeClassifier( criterion='gini',\n",
    "    splitter='best',\n",
    "    max_depth=4)"
   ]
  },
  {
   "cell_type": "code",
   "execution_count": null,
   "id": "4c6b37f9",
   "metadata": {},
   "outputs": [],
   "source": [
    "DTC"
   ]
  },
  {
   "cell_type": "code",
   "execution_count": null,
   "id": "93082433",
   "metadata": {},
   "outputs": [],
   "source": [
    "DTC.fit(x_train,y_train)"
   ]
  },
  {
   "cell_type": "code",
   "execution_count": null,
   "id": "9c5251b4",
   "metadata": {},
   "outputs": [],
   "source": [
    "DTC.score(x_test,y_test)"
   ]
  },
  {
   "cell_type": "code",
   "execution_count": null,
   "id": "1297419c",
   "metadata": {},
   "outputs": [],
   "source": [
    "dic_param = {\n",
    "    \"criterion\" : [\"gini\", \"entropy\"],\n",
    "    \"max_depth\" : [2,4,5,6,None]\n",
    "}\n",
    "    "
   ]
  },
  {
   "cell_type": "code",
   "execution_count": null,
   "id": "a746afa8",
   "metadata": {},
   "outputs": [],
   "source": [
    "dic_param"
   ]
  },
  {
   "cell_type": "code",
   "execution_count": null,
   "id": "5622a2f6",
   "metadata": {},
   "outputs": [],
   "source": [
    "Dtree = DecisionTreeClassifier()"
   ]
  },
  {
   "cell_type": "code",
   "execution_count": null,
   "id": "368d968e",
   "metadata": {},
   "outputs": [],
   "source": [
    "from sklearn.model_selection import GridSearchCV"
   ]
  },
  {
   "cell_type": "code",
   "execution_count": null,
   "id": "842f355f",
   "metadata": {},
   "outputs": [],
   "source": [
    "gscv = GridSearchCV(estimator=Dtree,param_grid=dic_param,cv=10)"
   ]
  },
  {
   "cell_type": "code",
   "execution_count": null,
   "id": "e2d5fed9",
   "metadata": {
    "scrolled": true
   },
   "outputs": [],
   "source": [
    "gscv.fit(x_train,y_train)"
   ]
  },
  {
   "cell_type": "code",
   "execution_count": null,
   "id": "f158210f",
   "metadata": {},
   "outputs": [],
   "source": [
    "gscv.best_score_"
   ]
  },
  {
   "cell_type": "code",
   "execution_count": null,
   "id": "4d32c16a",
   "metadata": {},
   "outputs": [],
   "source": [
    "gscv.best_params_"
   ]
  },
  {
   "cell_type": "code",
   "execution_count": null,
   "id": "3312831d",
   "metadata": {},
   "outputs": [],
   "source": [
    "from sklearn.svm import SVC"
   ]
  },
  {
   "cell_type": "code",
   "execution_count": null,
   "id": "76a7da78",
   "metadata": {},
   "outputs": [],
   "source": [
    "svm_model = SVC()"
   ]
  },
  {
   "cell_type": "code",
   "execution_count": null,
   "id": "09de3701",
   "metadata": {},
   "outputs": [],
   "source": [
    "svm_param = {\n",
    "     \"kernel\" : [\"linear\",\"poly\",\"sigmoid\",\"rbf\"],\n",
    "    \"gamma\" : [\"scale\",\"auto\"]\n",
    "}"
   ]
  },
  {
   "cell_type": "code",
   "execution_count": null,
   "id": "346cbff5",
   "metadata": {},
   "outputs": [],
   "source": [
    "model_details = {\n",
    "    \"svm\" : {\n",
    "                \"model\" : SVC(),\n",
    "                \"params\" : {\n",
    "                            \"kernel\" : [\"linear\",\"poly\",\"sigmoid\",\"rbf\"],\n",
    "                            \"gamma\" : [\"scale\",\"auto\"]\n",
    "                        }\n",
    "            }\n",
    "}"
   ]
  },
  {
   "cell_type": "code",
   "execution_count": null,
   "id": "3fe673d9",
   "metadata": {},
   "outputs": [],
   "source": [
    "model_details"
   ]
  },
  {
   "cell_type": "code",
   "execution_count": null,
   "id": "46296eb9",
   "metadata": {},
   "outputs": [],
   "source": [
    "model_details[\"svm\"]"
   ]
  },
  {
   "cell_type": "code",
   "execution_count": null,
   "id": "5b6846fe",
   "metadata": {},
   "outputs": [],
   "source": [
    "model_details[\"svm\"][\"params\"]"
   ]
  },
  {
   "cell_type": "code",
   "execution_count": null,
   "id": "0b6b72ed",
   "metadata": {},
   "outputs": [],
   "source": [
    "model_details[\"svm\"][\"model\"]"
   ]
  },
  {
   "cell_type": "code",
   "execution_count": null,
   "id": "8370689c",
   "metadata": {},
   "outputs": [],
   "source": [
    "model_details = {\n",
    "    \"svm\" : {\n",
    "        \"model\" : SVC(),\n",
    "        \"params\" : {\n",
    "             \"kernel\" : [\"linear\",\"poly\",\"sigmoid\",\"rbf\"],\n",
    "             \"gamma\" : [\"scale\",\"auto\"]\n",
    "                }\n",
    "            },\n",
    "    \"dt\" : {\n",
    "        \"model\" : DecisionTreeClassifier(),\n",
    "        \"params\" : {\"criterion\" : [\"gini\", \"entropy\"],\n",
    "                    \"max_depth\" : [2,4,5,6,None]\n",
    "                   }\n",
    "    }\n",
    "    \n",
    "}"
   ]
  },
  {
   "cell_type": "code",
   "execution_count": null,
   "id": "445985eb",
   "metadata": {},
   "outputs": [],
   "source": [
    "model_details"
   ]
  },
  {
   "cell_type": "code",
   "execution_count": null,
   "id": "dbd5eb80",
   "metadata": {},
   "outputs": [],
   "source": [
    "for i in model_details.keys():\n",
    "    print(i)"
   ]
  },
  {
   "cell_type": "code",
   "execution_count": null,
   "id": "4dec1c0f",
   "metadata": {},
   "outputs": [],
   "source": [
    "for i in model_details.values():\n",
    "    print(i)"
   ]
  },
  {
   "cell_type": "code",
   "execution_count": null,
   "id": "a987843a",
   "metadata": {},
   "outputs": [],
   "source": [
    "for i,j in model_details.items():\n",
    "    print(i)\n",
    "    print()\n",
    "    print(j)\n",
    "    print()\n",
    "    print(\"**************************************\")"
   ]
  },
  {
   "cell_type": "code",
   "execution_count": null,
   "id": "1fdad9d4",
   "metadata": {},
   "outputs": [],
   "source": [
    "for i,j in model_details.items():\n",
    "    print(i)\n",
    "    print()\n",
    "    print(j)\n",
    "    print()\n",
    "    for x,y in j.items():\n",
    "        print(\"\\t\",x)\n",
    "        print()\n",
    "        print(\"\\t\",y)\n",
    "        print()\n",
    "        \n",
    "    print(\"**************************************\")"
   ]
  },
  {
   "cell_type": "code",
   "execution_count": null,
   "id": "1f4af502",
   "metadata": {},
   "outputs": [],
   "source": [
    "for i,j in model_details.items():\n",
    "    print(i)\n",
    "    print()\n",
    "    print(j[\"model\"])\n",
    "    print(j[\"params\"])\n",
    "    print()\n",
    "    print(\"*************************\")"
   ]
  },
  {
   "cell_type": "code",
   "execution_count": null,
   "id": "90b252ff",
   "metadata": {},
   "outputs": [],
   "source": [
    "import warnings\n",
    "warnings.filterwarnings(\"ignore\")"
   ]
  },
  {
   "cell_type": "code",
   "execution_count": null,
   "id": "0f3b5f99",
   "metadata": {},
   "outputs": [],
   "source": []
  },
  {
   "cell_type": "code",
   "execution_count": null,
   "id": "1ea99a1d",
   "metadata": {},
   "outputs": [],
   "source": [
    "for m,n in model_details.items():\n",
    "    print(m)\n",
    "    print(n)\n"
   ]
  },
  {
   "cell_type": "code",
   "execution_count": null,
   "id": "28b69f96",
   "metadata": {},
   "outputs": [],
   "source": [
    "#import time\n",
    "for m,n in model_details.items():\n",
    "    gscv = GridSearchCV(estimator = n[\"model\"],param_grid = n[\"params\"],cv = 5)\n",
    "    gscv.fit(x_train,y_train)\n",
    "    #print(gscv.best_params_)\n",
    "    #print(gscv.best_score_)\n",
    "    print(\"***************************\")\n",
    "    #time.sleep(5)\n",
    "    "
   ]
  }
 ],
 "metadata": {
  "kernelspec": {
   "display_name": "Python 3",
   "language": "python",
   "name": "python3"
  },
  "language_info": {
   "codemirror_mode": {
    "name": "ipython",
    "version": 3
   },
   "file_extension": ".py",
   "mimetype": "text/x-python",
   "name": "python",
   "nbconvert_exporter": "python",
   "pygments_lexer": "ipython3",
   "version": "3.8.8"
  }
 },
 "nbformat": 4,
 "nbformat_minor": 5
}
